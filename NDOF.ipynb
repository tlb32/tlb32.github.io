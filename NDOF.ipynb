{
 "cells": [
  {
   "cell_type": "code",
   "execution_count": 9,
   "id": "9ab5efa7",
   "metadata": {},
   "outputs": [
    {
     "name": "stdout",
     "output_type": "stream",
     "text": [
      "For information about changes from previous versions of the io package, run 'news io'.\n"
     ]
    }
   ],
   "source": [
    "% pkg install -forge io\n"
   ]
  },
  {
   "cell_type": "code",
   "execution_count": 1,
   "id": "6a3c9170",
   "metadata": {},
   "outputs": [],
   "source": [
    "pkg load io"
   ]
  },
  {
   "cell_type": "code",
   "execution_count": 3,
   "id": "15adb162",
   "metadata": {},
   "outputs": [
    {
     "data": {
      "image/png": "[encoded data removed]",
      "text/plain": [
       "<IPython.core.display.Image object>"
      ]
     },
     "metadata": {},
     "output_type": "display_data"
    }
   ],
   "source": [
    "damping_compare"
   ]
  },
  {
   "cell_type": "code",
   "execution_count": 40,
   "id": "52693f90",
   "metadata": {},
   "outputs": [
    {
     "name": "stdout",
     "output_type": "stream",
     "text": [
      "k =  34000000\n"
     ]
    }
   ],
   "source": [
    "[a,B] = IG(48e6*1.4,.7);"
   ]
  },
  {
   "cell_type": "code",
   "execution_count": 47,
   "id": "acfba5ab",
   "metadata": {},
   "outputs": [
    {
     "data": {
      "image/png": "[encoded data removed]",
      "text/plain": [
       "<IPython.core.display.Image object>"
      ]
     },
     "metadata": {},
     "output_type": "display_data"
    }
   ],
   "source": [
    "semilogx(B,\"bo\")\n",
    "set (gca, 'xtick', a); \n",
    "xticks = get (gca, \"xtick\");\n",
    "xlabels = arrayfun (@(x) sprintf(\"%1.1E\",x), xticks, \"uniformoutput\", false);\n",
    "set (gca, 'xticklabel', xlabels);\n",
    "set (gca,'xminortick','off');\n",
    "grid on;"
   ]
  },
  {
   "cell_type": "code",
   "execution_count": null,
   "id": "1d02ea97",
   "metadata": {},
   "outputs": [],
   "source": []
  },
  {
   "cell_type": "code",
   "execution_count": 26,
   "id": "020e3220",
   "metadata": {},
   "outputs": [],
   "source": [
    "clear IG"
   ]
  },
  {
   "cell_type": "code",
   "execution_count": 48,
   "id": "c320090e",
   "metadata": {},
   "outputs": [
    {
     "name": "stdout",
     "output_type": "stream",
     "text": [
      "a =\n",
      "\n",
      "     3.1250\n",
      "     3.9373\n",
      "     4.9606\n",
      "     6.2500\n",
      "     7.8745\n",
      "     9.9213\n",
      "    12.5000\n",
      "    15.7490\n",
      "    19.8425\n",
      "    25.0000\n",
      "    31.4980\n",
      "    39.6850\n",
      "    50.0000\n",
      "    62.9961\n",
      "    79.3701\n",
      "   100.0000\n",
      "   125.9921\n",
      "   158.7401\n",
      "   200.0000\n",
      "   251.9842\n",
      "   317.4802\n",
      "   400.0000\n",
      "   503.9684\n",
      "\n"
     ]
    }
   ],
   "source": [
    "a\n"
   ]
  },
  {
   "cell_type": "code",
   "execution_count": 25,
   "id": "a1e2e3ed",
   "metadata": {},
   "outputs": [
    {
     "name": "stdout",
     "output_type": "stream",
     "text": [
      "M =\n",
      "\n",
      "   1   0   0   0\n",
      "   0   1   0   0\n",
      "   0   0   5   0\n",
      "   0   0   0   6\n",
      "\n",
      "b1 =\n",
      "\n",
      "  -2   3  -1\n",
      "  -1   2  -2\n",
      "\n",
      "b2 =\n",
      "\n",
      "  -0   0  -0\n",
      "  -0   0  -0\n",
      "\n",
      "K =\n",
      "\n",
      "   0   0  -1   0\n",
      "   0   0   0  -1\n",
      "   3  -2   0   0\n",
      "  -2   2   0   0\n",
      "\n",
      "F =\n",
      "\n",
      "   0   0   7   7\n",
      "\n",
      "Y0 =\n",
      "\n",
      "  -0.03571 - 0.00000i\n",
      "  -0.02950 - 0.00000i\n",
      "   0.00000 - 0.22435i\n",
      "   0.00000 - 0.18535i\n",
      "\n",
      "V =\n",
      "\n",
      " Columns 1 through 3:\n",
      "\n",
      "   1.00000 + 0.00000i   1.00000 - 0.00000i   0.76619 + 0.00000i\n",
      "  -0.63849 - 0.00000i  -0.63849 + 0.00000i   1.00000 + 0.00000i\n",
      "  -0.00000 - 0.92488i  -0.00000 + 0.92488i   0.00000 - 0.21390i\n",
      "   0.00000 + 0.59053i   0.00000 - 0.59053i   0.00000 - 0.27917i\n",
      "\n",
      " Column 4:\n",
      "\n",
      "   0.76619 - 0.00000i\n",
      "   1.00000 - 0.00000i\n",
      "   0.00000 + 0.21390i\n",
      "   0.00000 + 0.27917i\n",
      "\n",
      "D =\n",
      "\n",
      "Diagonal Matrix\n",
      "\n",
      " Columns 1 through 3:\n",
      "\n",
      "   0.00000 + 0.92488i                    0                    0\n",
      "                    0   0.00000 - 0.92488i                    0\n",
      "                    0                    0   0.00000 + 0.27917i\n",
      "                    0                    0                    0\n",
      "\n",
      " Column 4:\n",
      "\n",
      "                    0\n",
      "                    0\n",
      "                    0\n",
      "   0.00000 - 0.27917i\n",
      "\n",
      "ans =\n",
      "\n",
      "  -0.03571 - 0.00000i\n",
      "  -0.02950 - 0.00000i\n",
      "   0.00000 - 0.22435i\n",
      "   0.00000 - 0.18535i\n",
      "\n"
     ]
    }
   ],
   "source": [
    "NDOF_f2([1,2],[5,6],[0,0],[7,7],1)"
   ]
  },
  {
   "cell_type": "code",
   "execution_count": 22,
   "id": "59dcb975",
   "metadata": {},
   "outputs": [
    {
     "name": "stdout",
     "output_type": "stream",
     "text": [
      "M =\n",
      "\n",
      "   1   0\n",
      "   0   2\n",
      "\n",
      "K =\n",
      "\n",
      "   0.00000  -1.00000\n",
      "   1.00000   0.11000\n",
      "\n",
      "F =\n",
      "\n",
      "   0   1\n",
      "\n",
      "Y0 =\n",
      "\n",
      "  -1.2827e-002 - 1.1372e-004i\n",
      "  7.1451e-004 - 8.0592e-002i\n",
      "\n",
      "V =\n",
      "\n",
      "  -1.00000 + 0.00000i  -1.00000 - 0.00000i\n",
      "   0.02750 + 0.70657i   0.02750 - 0.70657i\n",
      "\n",
      "D =\n",
      "\n",
      "Diagonal Matrix\n",
      "\n",
      "   0.02750 + 0.70657i                    0\n",
      "                    0   0.02750 - 0.70657i\n",
      "\n",
      "ans =\n",
      "\n",
      "  -1.2827e-002 - 1.1372e-004i\n",
      "  7.1451e-004 - 8.0592e-002i\n",
      "\n"
     ]
    }
   ],
   "source": [
    "NDOF_f2(1,2,.11,1,1)"
   ]
  },
  {
   "cell_type": "code",
   "execution_count": 24,
   "id": "54c7b18b",
   "metadata": {},
   "outputs": [
    {
     "name": "stdout",
     "output_type": "stream",
     "text": [
      "ans =\n",
      "\n",
      "  -2.5266e+003 - 2.5266e+002i  0.0000e+000 + 0.0000e+000i\n",
      "  0.0000e+000 + 0.0000e+000i  -2.5266e+003 - 2.5266e+002i\n",
      "\n"
     ]
    }
   ],
   "source": [
    "D.*D"
   ]
  },
  {
   "cell_type": "markdown",
   "id": "96dded6a",
   "metadata": {},
   "source": [
    "# `NDOF` revisited for the $N$th time\n",
    "\n",
    "Stiffness matrix:\n",
    "\n",
    "$\\begin{bmatrix}\n",
    "-(k_1+k_2) & k_2 & 0 & \\cdots  & 0\\\\ \n",
    "k_2 & -(k_2+k_3) & k_3 & \\cdots & \\vdots\\\\ \n",
    "0 & k_3 & \\ddots & \\ddots & 0\\\\ \n",
    "\\vdots & 0 & \\ddots & -(k_{n-1}+k_n)  & k_n\\\\ \n",
    "0 & \\cdots & 0 & k_n & -k_n\n",
    "\\end{bmatrix}$\n",
    "\n",
    "can include damping into the stiffness matrix by the transformation:\n",
    "\n",
    "$k \\rightarrow k + i \\omega c $ for \"traditional\" viscous damping.\n",
    "$k \\rightarrow k + i c $ for \"traditional\" viscous damping.\n",
    "need to vet the above\n",
    "\n",
    "Mass matrix:\n",
    "$-\\omega^2 \\begin{bmatrix}\n",
    "m_1 & 0 & 0 & \\cdots  & 0\\\\ \n",
    "0 & m_2 & \\ddots & \\ddots & \\vdots\\\\ \n",
    "0 & \\ddots & \\ddots & \\ddots & 0\\\\ \n",
    "\\vdots & 0 & \\ddots & m_{n-1}  & 0\\\\ \n",
    "0 & \\cdots & \\cdots & 0 & m_n\n",
    "\\end{bmatrix}$\n",
    "\n",
    "(the matrix typography above needs a bit of work)\n",
    "\n",
    "You would think this sufficient for describing the system, but the implementation in `NDOF` has separate velocities and displacements (even though those are not indpenedent?). I can not remember at the moment why I did it this way. Why was it necessary? Is it actually less efficient? In any case, to verify and document, I'll give it a shot:\n",
    "\n",
    "Another way to explain it: For $N$-d.o.f. system, we actually form a set of $2N$ independent equations, for all displacements and velocities. "
   ]
  },
  {
   "cell_type": "code",
   "execution_count": 38,
   "id": "abf69ce5",
   "metadata": {},
   "outputs": [
    {
     "name": "stdout",
     "output_type": "stream",
     "text": [
      "ans =\n",
      "\n",
      "  -2\n",
      "  -3\n",
      "  -1\n",
      "\n"
     ]
    }
   ],
   "source": [
    "circshift(-[1 2 3]',-1')"
   ]
  },
  {
   "cell_type": "code",
   "execution_count": 40,
   "id": "adb44342",
   "metadata": {},
   "outputs": [
    {
     "name": "stdout",
     "output_type": "stream",
     "text": [
      "k =\n",
      "\n",
      "   1   2   3\n",
      "\n"
     ]
    }
   ],
   "source": [
    "k=[1 2 3]"
   ]
  },
  {
   "cell_type": "code",
   "execution_count": 42,
   "id": "67ea6a7f",
   "metadata": {},
   "outputs": [
    {
     "name": "stdout",
     "output_type": "stream",
     "text": [
      "b1 =\n",
      "\n",
      "  -2   3  -1\n",
      "  -3   5  -2\n",
      "  -1   3  -3\n",
      "\n"
     ]
    }
   ],
   "source": [
    "b1 = [ circshift(-k',-1)  k' + [k(2:end)' ; 0]  -k' ]\n"
   ]
  },
  {
   "cell_type": "code",
   "execution_count": 44,
   "id": "085178e0",
   "metadata": {},
   "outputs": [
    {
     "name": "stdout",
     "output_type": "stream",
     "text": [
      "ans =\n",
      "\n",
      "   3  -2   0\n",
      "  -2   5  -3\n",
      "   0  -3   3\n",
      "\n"
     ]
    }
   ],
   "source": [
    "full(spdiags(b1,-1:1,3,3))"
   ]
  },
  {
   "cell_type": "code",
   "execution_count": null,
   "id": "09241354",
   "metadata": {},
   "outputs": [],
   "source": []
  },
  {
   "cell_type": "code",
   "execution_count": 48,
   "id": "d955d790",
   "metadata": {},
   "outputs": [
    {
     "name": "stdout",
     "output_type": "stream",
     "text": [
      "K =\n",
      "\n",
      "   0  -1\n",
      "   4   0\n",
      "\n"
     ]
    }
   ],
   "source": [
    "K"
   ]
  },
  {
   "cell_type": "code",
   "execution_count": 28,
   "id": "9cc83fc7",
   "metadata": {},
   "outputs": [
    {
     "name": "stdout",
     "output_type": "stream",
     "text": [
      "ans =  4\n"
     ]
    }
   ],
   "source": [
    "eig(k,m)"
   ]
  },
  {
   "cell_type": "code",
   "execution_count": 50,
   "id": "2e118677",
   "metadata": {},
   "outputs": [
    {
     "name": "stdout",
     "output_type": "stream",
     "text": [
      "v =\n",
      "\n",
      "  -0.12500 + 0.48412i  -0.12500 - 0.48412i\n",
      "   1.00000 + 0.00000i   1.00000 - 0.00000i\n",
      "\n",
      "d =\n",
      "\n",
      "Diagonal Matrix\n",
      "\n",
      "   0.5000 + 1.9365i                  0\n",
      "                  0   0.5000 - 1.9365i\n",
      "\n"
     ]
    }
   ],
   "source": [
    "[v,d]= eig(K,m)"
   ]
  },
  {
   "cell_type": "code",
   "execution_count": 52,
   "id": "05621cc7",
   "metadata": {},
   "outputs": [
    {
     "name": "stdout",
     "output_type": "stream",
     "text": [
      "ans =\n",
      "\n",
      "Diagonal Matrix\n",
      "\n",
      "   1.9365        0\n",
      "        0  -1.9365\n",
      "\n"
     ]
    }
   ],
   "source": [
    "imag(d)"
   ]
  },
  {
   "cell_type": "markdown",
   "id": "fc2c067d",
   "metadata": {},
   "source": [
    "## "
   ]
  },
  {
   "cell_type": "code",
   "execution_count": 49,
   "id": "ad348fc3",
   "metadata": {},
   "outputs": [
    {
     "name": "stdout",
     "output_type": "stream",
     "text": [
      "m =\n",
      "\n",
      "   1   0\n",
      "   0   1\n",
      "\n",
      "K =\n",
      "\n",
      "   0  -1\n",
      "   4   1\n",
      "\n",
      "F =\n",
      "\n",
      "   0   1\n",
      "\n"
     ]
    }
   ],
   "source": [
    "m = [1 0 ; 0 1]\n",
    "K = [0 -1; 4 1 ]\n",
    "F = [0 force_vec]"
   ]
  },
  {
   "cell_type": "code",
   "execution_count": null,
   "id": "f9be3ca7",
   "metadata": {},
   "outputs": [],
   "source": []
  }
 ],
 "metadata": {
  "hide_input": false,
  "kernelspec": {
   "display_name": "Octave",
   "language": "octave",
   "name": "octave"
  },
  "language_info": {
   "file_extension": ".m",
   "help_links": [
    {
     "text": "GNU Octave",
     "url": "https://www.gnu.org/software/octave/support.html"
    },
    {
     "text": "Octave Kernel",
     "url": "https://github.com/Calysto/octave_kernel"
    },
    {
     "text": "MetaKernel Magics",
     "url": "https://metakernel.readthedocs.io/en/latest/source/README.html"
    }
   ],
   "mimetype": "text/x-octave",
   "name": "octave",
   "version": "4.2.1"
  },
  "latex_envs": {
   "LaTeX_envs_menu_present": true,
   "autoclose": false,
   "autocomplete": true,
   "bibliofile": "biblio.bib",
   "cite_by": "apalike",
   "current_citInitial": 1,
   "eqLabelWithNumbers": true,
   "eqNumInitial": 1,
   "hotkeys": {
    "equation": "Ctrl-E",
    "itemize": "Ctrl-I"
   },
   "labels_anchors": false,
   "latex_user_defs": false,
   "report_style_numbering": false,
   "user_envs_cfg": false
  },
  "toc": {
   "base_numbering": 1,
   "nav_menu": {},
   "number_sections": true,
   "sideBar": true,
   "skip_h1_title": false,
   "title_cell": "Table of Contents",
   "title_sidebar": "Contents",
   "toc_cell": false,
   "toc_position": {},
   "toc_section_display": true,
   "toc_window_display": false
  }
 },
 "nbformat": 4,
 "nbformat_minor": 5
}
